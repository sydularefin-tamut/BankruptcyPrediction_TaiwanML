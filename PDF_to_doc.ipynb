import PyPDF2
from docx import Document

def pdf_to_word(pdf_file, word_file):
    # Open the PDF file in read-binary mode
    pdf_reader = PyPDF2.PdfFileReader(open(pdf_file, 'rb'))

    # Create a new Word document
    doc = Document()

    # Iterate through each page in the PDF
    for page_num in range(pdf_reader.numPages):
        page = pdf_reader.getPage(page_num)

        # Extract text from the PDF page
        text = page.extract_text()

        # Add the extracted text to the Word document
        doc.add_paragraph(text)

    # Save the Word document
    doc.save(word_file)

if __name__ == "__main__":
    pdf_file = 'input.pdf'  # Replace with your PDF file path
    word_file = 'output.docx'  # Replace with the desired Word file path

    pdf_to_word(pdf_file, word_file)
    print(f"Conversion complete. Saved as {word_file}")
